{
 "cells": [
  {
   "cell_type": "markdown",
   "metadata": {},
   "source": [
    "# Learning-to-Rank example"
   ]
  },
  {
   "cell_type": "code",
   "execution_count": 1,
   "metadata": {},
   "outputs": [],
   "source": [
    "from sklearn.ensemble import RandomForestRegressor\n",
    "import numpy as np"
   ]
  },
  {
   "cell_type": "markdown",
   "metadata": {},
   "source": [
    "## A class for pointwise-based learning to rank model"
   ]
  },
  {
   "cell_type": "code",
   "execution_count": 2,
   "metadata": {},
   "outputs": [],
   "source": [
    "class PointWiseLTRModel(object):\n",
    "    def __init__(self, regressor):\n",
    "        \"\"\"\n",
    "        Args:\n",
    "            classifier: an instance of scikit-learn regressor\n",
    "        \"\"\"\n",
    "        self.regressor = regressor\n",
    "\n",
    "    def _train(self, X, y):\n",
    "        \"\"\"Trains and LTR model.\n",
    "        \n",
    "        Args:\n",
    "            X: features of training instances\n",
    "            y: relevance assessments of training instances\n",
    "        \"\"\"\n",
    "        assert self.regressor is not None\n",
    "        self.model = self.regressor.fit(X, y)\n",
    "\n",
    "    def rank(self, ft, doc_ids):\n",
    "        \"\"\"Predicts relevance labels and rank documents for a given query.\n",
    "        \n",
    "        Args:\n",
    "            ft: a list of features for query-doc pairs\n",
    "            doc_ids: a list of document ids\n",
    "        \"\"\"\n",
    "        assert self.model is not None\n",
    "        rel_labels = self.model.predict(ft)\n",
    "        sort_indices = np.argsort(rel_labels)[::-1]\n",
    "\n",
    "        results = []\n",
    "        for i in sort_indices:\n",
    "            results.append((doc_ids[i], rel_labels[i]))\n",
    "        return results"
   ]
  },
  {
   "cell_type": "markdown",
   "metadata": {},
   "source": [
    "## Read data from file"
   ]
  },
  {
   "cell_type": "code",
   "execution_count": 3,
   "metadata": {},
   "outputs": [],
   "source": [
    "def read_data_from_file(filename):\n",
    "    \"\"\"Loads pre-computed features from file.\n",
    "    \n",
    "    Args:\n",
    "        filename: File name\n",
    "        \n",
    "    Returns: \n",
    "        X features of data, y labels of data, group a list of numbers indicate how many instances for each query\n",
    "    \"\"\"\n",
    "    X, y, qids, doc_ids = [], [], [], []\n",
    "    with open(filename, 'r') as f:\n",
    "        i, s_qid = 0, None\n",
    "        for line in f:\n",
    "            items = line.strip().split()\n",
    "            label = int(items[0])\n",
    "            qid = items[1]\n",
    "            doc_id = items[2]\n",
    "            features = np.array([float(i.split(\":\")[1]) for i in items[3:]])\n",
    "            X.append(features)\n",
    "            y.append(label)\n",
    "            qids.append(qid)\n",
    "            doc_ids.append(doc_id)\n",
    "\n",
    "    return X, y, qids, doc_ids"
   ]
  },
  {
   "cell_type": "markdown",
   "metadata": {},
   "source": [
    "## Main"
   ]
  },
  {
   "cell_type": "markdown",
   "metadata": {},
   "source": [
    "#### Read input data"
   ]
  },
  {
   "cell_type": "code",
   "execution_count": 4,
   "metadata": {},
   "outputs": [
    {
     "name": "stdout",
     "output_type": "stream",
     "text": [
      "#queries:  339\n",
      "#query-doc pairs:  14013\n"
     ]
    }
   ],
   "source": [
    "X, y, qids, doc_ids = read_data_from_file('data/features_sample.txt')\n",
    "qids_unique= list(set(qids))\n",
    "\n",
    "print('#queries: ', len(qids_unique))\n",
    "print('#query-doc pairs: ', len(y))"
   ]
  },
  {
   "cell_type": "markdown",
   "metadata": {},
   "source": [
    "Sample of feature vectors"
   ]
  },
  {
   "cell_type": "code",
   "execution_count": 5,
   "metadata": {},
   "outputs": [
    {
     "name": "stdout",
     "output_type": "stream",
     "text": [
      "qid:10     GX000-00-0000000     rel: 0\n",
      "features: 0.0, 0.0, 0.0, 0.0, 0.0, 0.0, 0.0, 0.0, 0.0, 0.0, 0.0, 0.0, 0.0, 0.0, 0.0, 0.001348, 0.0, 0.222222, 0.0, 0.001282, 0.0, 0.0, 0.0, 0.0, 0.0, 0.0, 0.0, 0.0, 0.0, 0.0, 0.0, 0.0, 0.0, 0.0, 0.0, 0.0, 0.0, 0.0, 0.0, 0.0, 0.0, 0.0, 0.017241, 0.0, 0.0, 0.0\n",
      "\n",
      "qid:10     GX000-24-12369390    rel: 1\n",
      "features: 0.03131, 0.666667, 0.5, 0.166667, 0.033206, 0.0, 0.0, 0.0, 0.0, 0.0, 0.023327, 0.641157, 0.498951, 0.323153, 0.026674, 0.029246, 0.5, 0.222222, 0.111111, 0.029398, 0.689128, 0.636228, 0.869764, 0.7164, 0.725186, 0.554961, 0.695985, 0.50406, 0.602946, 0.679534, 0.730286, 0.687414, 0.529688, 0.436996, 0.643739, 0.372337, 0.64689, 0.686107, 0.823908, 0.750092, 0.385426, 0.923077, 0.086207, 0.333333, 0.448276, 0.0\n",
      "\n",
      "qid:10     GX000-62-7863450     rel: 1\n",
      "features: 0.078682, 0.166667, 0.5, 0.333333, 0.080022, 0.0, 0.0, 0.0, 0.0, 0.0, 0.108216, 0.174635, 0.501049, 0.351114, 0.112102, 0.118642, 0.5625, 0.944444, 0.333333, 0.119184, 0.696967, 0.486387, 0.938768, 0.577082, 0.209891, 0.160965, 0.18526, 0.128353, 0.205904, 0.213219, 0.256479, 0.156858, 0.352022, 0.131372, 0.07966, 0.068825, 0.649824, 0.578581, 0.868557, 0.641385, 0.010462, 0.076923, 0.074713, 0.833333, 0.678161, 0.0\n",
      "\n",
      "qid:10     GX016-48-5543459     rel: 1\n",
      "features: 0.019058, 1.0, 1.0, 0.5, 0.022591, 0.0, 0.0, 0.0, 0.0, 0.0, 0.021256, 1.0, 1.0, 0.674267, 0.028989, 0.020426, 0.875, 0.777778, 0.388889, 0.021043, 0.949146, 0.867628, 1.0, 0.838125, 0.776131, 1.0, 1.0, 1.0, 0.505564, 0.922004, 1.0, 1.0, 0.769817, 0.890277, 0.896671, 0.9405, 0.918403, 0.868457, 1.0, 0.86346, 0.016642, 0.153846, 0.04023, 0.833333, 0.896552, 0.0\n",
      "\n",
      "qid:10     GX037-87-3082362     rel: 0\n",
      "features: 0.039477, 0.0, 0.75, 0.166667, 0.040555, 0.0, 0.0, 0.0, 0.0, 0.0, 0.036178, 0.0, 0.751573, 0.175557, 0.039086, 0.053319, 0.1875, 1.0, 0.111111, 0.053668, 0.605907, 0.469614, 0.827181, 0.582661, 0.0, 0.0, 0.0, 0.0, 0.266984, 0.204123, 0.323377, 0.17645, 0.28776, 0.074987, 0.002373, 0.05228, 0.565875, 0.56944, 0.769845, 0.646567, 0.073711, 0.076923, 0.034483, 0.333333, 0.218391, 0.0\n",
      "\n"
     ]
    }
   ],
   "source": [
    "for i in range(5):\n",
    "    print('{:10} {:20} rel: {}\\nfeatures: {}\\n'.format(qids[i], doc_ids[i], y[i], ', '.join([str(_) for _ in X[i]])))"
   ]
  },
  {
   "cell_type": "markdown",
   "metadata": {},
   "source": [
    "#### Split data into train and test sets (80% and 20%, respectively)"
   ]
  },
  {
   "cell_type": "code",
   "execution_count": 6,
   "metadata": {},
   "outputs": [],
   "source": [
    "train_qids = []\n",
    "test_qids = []\n",
    "\n",
    "for i in range(len(qids_unique)):\n",
    "    qid = qids_unique[i]\n",
    "    if i % 5 == 0:  # test query\n",
    "        test_qids.append(qid)\n",
    "    else:  # train query\n",
    "        train_qids.append(qid)\n",
    "    \n",
    "train_X, train_y = [], []\n",
    "test_X, test_y = [], []\n",
    "\n",
    "for i in range(len(X)):\n",
    "    if qids[i] in train_qids:\n",
    "        train_X.append(X[i])\n",
    "        train_y.append(y[i])\n",
    "    else:\n",
    "        test_X.append(X[i])\n",
    "        test_y.append(y[i])"
   ]
  },
  {
   "cell_type": "markdown",
   "metadata": {},
   "source": [
    "#### Create a regression model and an LTR instance based on that"
   ]
  },
  {
   "cell_type": "code",
   "execution_count": 7,
   "metadata": {},
   "outputs": [],
   "source": [
    "clf = RandomForestRegressor(max_depth=3, random_state=0, n_estimators=10)\n",
    "ltr = PointWiseLTRModel(clf)"
   ]
  },
  {
   "cell_type": "markdown",
   "metadata": {},
   "source": [
    "#### Train LTR model"
   ]
  },
  {
   "cell_type": "code",
   "execution_count": 8,
   "metadata": {},
   "outputs": [],
   "source": [
    "ltr._train(train_X, train_y)"
   ]
  },
  {
   "cell_type": "markdown",
   "metadata": {},
   "source": [
    "#### Generate ranking for a test query"
   ]
  },
  {
   "cell_type": "code",
   "execution_count": 9,
   "metadata": {},
   "outputs": [
    {
     "name": "stdout",
     "output_type": "stream",
     "text": [
      "GX232-33-5643547     0.3913\n",
      "GX017-25-0246746     0.3716\n",
      "GX007-11-15268600    0.3252\n",
      "GX003-21-16226598    0.3146\n",
      "GX243-75-2642608     0.3014\n",
      "GX000-79-1969938     0.2945\n",
      "GX001-57-11634684    0.2945\n",
      "GX235-05-9989317     0.2906\n",
      "GX042-90-13281691    0.2842\n",
      "GX050-75-7675845     0.2842\n"
     ]
    }
   ],
   "source": [
    "qid = test_qids[0]  # first test query\n",
    "# get the doc_ids and feature vectors for the documents that are to be ranked for this query\n",
    "# Note that this is a really inefficient way of doing this!\n",
    "test_X = []\n",
    "test_doc_ids = []\n",
    "\n",
    "for i in range(len(X)):\n",
    "    if qids[i] == qid:\n",
    "        test_X.append(X[i])\n",
    "        test_doc_ids.append(doc_ids[i])\n",
    "\n",
    "r = ltr.rank(test_X, test_doc_ids)\n",
    "\n",
    "# Print top-10 results\n",
    "for (doc_id, score) in r[:10]:\n",
    "    print('{:20} {:06.4f}'.format(doc_id, score))"
   ]
  }
 ],
 "metadata": {
  "kernelspec": {
   "display_name": "Python 3",
   "language": "python",
   "name": "python3"
  },
  "language_info": {
   "codemirror_mode": {
    "name": "ipython",
    "version": 3
   },
   "file_extension": ".py",
   "mimetype": "text/x-python",
   "name": "python",
   "nbconvert_exporter": "python",
   "pygments_lexer": "ipython3",
   "version": "3.7.4"
  }
 },
 "nbformat": 4,
 "nbformat_minor": 2
}
