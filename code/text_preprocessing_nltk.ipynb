{
 "cells": [
  {
   "cell_type": "markdown",
   "metadata": {},
   "source": [
    "# Text preprocessing using NLTK\n",
    "\n",
    "[NLTK](https://www.nltk.org/) is a natural language text processing toolkit, which provides libraries for classification, tokenization, stemming, tagging, parsing, etc."
   ]
  },
  {
   "cell_type": "code",
   "execution_count": 1,
   "metadata": {},
   "outputs": [],
   "source": [
    "import nltk\n",
    "import string"
   ]
  },
  {
   "cell_type": "code",
   "execution_count": 2,
   "metadata": {},
   "outputs": [],
   "source": [
    "EXAMPLE_TEXT = \"This is the text of the document we will be using as an example here.\" + \\\n",
    "               \"It doesn't really matter what it says, we just want some words.\" + \\\n",
    "               \"The running was sensational.\""
   ]
  },
  {
   "cell_type": "markdown",
   "metadata": {},
   "source": [
    "## Tokenization\n",
    "\n",
    "The default tokenizer does not remove (or split along) punctuation marks.\n",
    "\n",
    "However, it does handle English contractions and separates them into two tokens (e.g., \"doesn't\")."
   ]
  },
  {
   "cell_type": "code",
   "execution_count": 3,
   "metadata": {},
   "outputs": [
    {
     "name": "stdout",
     "output_type": "stream",
     "text": [
      "['This', 'is', 'the', 'text', 'of', 'the', 'document', 'we', 'will', 'be', 'using', 'as', 'an', 'example', 'here.It', 'does', \"n't\", 'really', 'matter', 'what', 'it', 'says', ',', 'we', 'just', 'want', 'some', 'words.The', 'running', 'was', 'sensational', '.']\n"
     ]
    }
   ],
   "source": [
    "print(nltk.word_tokenize(EXAMPLE_TEXT))"
   ]
  },
  {
   "cell_type": "markdown",
   "metadata": {},
   "source": [
    "If we do not wish contractions to be handled, we may use the WhitespaceTokenizer. (This does not differ from the string `split()` method though.)"
   ]
  },
  {
   "cell_type": "code",
   "execution_count": 4,
   "metadata": {},
   "outputs": [
    {
     "name": "stdout",
     "output_type": "stream",
     "text": [
      "['This', 'is', 'the', 'text', 'of', 'the', 'document', 'we', 'will', 'be', 'using', 'as', 'an', 'example', 'here.It', \"doesn't\", 'really', 'matter', 'what', 'it', 'says,', 'we', 'just', 'want', 'some', 'words.The', 'running', 'was', 'sensational.']\n"
     ]
    }
   ],
   "source": [
    "print(nltk.tokenize.WhitespaceTokenizer().tokenize(EXAMPLE_TEXT))"
   ]
  },
  {
   "cell_type": "markdown",
   "metadata": {},
   "source": [
    "To split along and remove punctuation, we rely on punctuation marks as defined by `string.punctuation`, excepting the apostrophes. Additionally, we lower-case text."
   ]
  },
  {
   "cell_type": "code",
   "execution_count": 5,
   "metadata": {},
   "outputs": [
    {
     "name": "stdout",
     "output_type": "stream",
     "text": [
      "Full set of punctuation marks:  !\"#$%&'()*+,-./:;<=>?@[\\]^_`{|}~\n",
      "Punctuation marks used for tokenization:  !\"#$%&()*+,-./:;<=>?@[\\]^_`{|}~\n"
     ]
    }
   ],
   "source": [
    "print('Full set of punctuation marks: ', string.punctuation)\n",
    "my_punc = string.punctuation.replace('\\'', '')  # Remove ' from the list of punctuation marks\n",
    "print('Punctuation marks used for tokenization: ', my_punc)"
   ]
  },
  {
   "cell_type": "code",
   "execution_count": 6,
   "metadata": {},
   "outputs": [
    {
     "name": "stdout",
     "output_type": "stream",
     "text": [
      "['this', 'is', 'the', 'text', 'of', 'the', 'document', 'we', 'will', 'be', 'using', 'as', 'an', 'example', 'here', 'it', 'does', \"n't\", 'really', 'matter', 'what', 'it', 'says', 'we', 'just', 'want', 'some', 'words', 'the', 'running', 'was', 'sensational']\n"
     ]
    }
   ],
   "source": [
    "text_cleaned = ''.join([c if c not in my_punc else ' ' for c in EXAMPLE_TEXT])\n",
    "tokenized_text = nltk.word_tokenize(text_cleaned.lower())\n",
    "print(tokenized_text)"
   ]
  },
  {
   "cell_type": "markdown",
   "metadata": {},
   "source": [
    "## Stopwords removal"
   ]
  },
  {
   "cell_type": "markdown",
   "metadata": {},
   "source": [
    "List of stopwords in NLTK."
   ]
  },
  {
   "cell_type": "code",
   "execution_count": 7,
   "metadata": {},
   "outputs": [
    {
     "name": "stdout",
     "output_type": "stream",
     "text": [
      "['i', 'me', 'my', 'myself', 'we', 'our', 'ours', 'ourselves', 'you', \"you're\", \"you've\", \"you'll\", \"you'd\", 'your', 'yours', 'yourself', 'yourselves', 'he', 'him', 'his', 'himself', 'she', \"she's\", 'her', 'hers', 'herself', 'it', \"it's\", 'its', 'itself', 'they', 'them', 'their', 'theirs', 'themselves', 'what', 'which', 'who', 'whom', 'this', 'that', \"that'll\", 'these', 'those', 'am', 'is', 'are', 'was', 'were', 'be', 'been', 'being', 'have', 'has', 'had', 'having', 'do', 'does', 'did', 'doing', 'a', 'an', 'the', 'and', 'but', 'if', 'or', 'because', 'as', 'until', 'while', 'of', 'at', 'by', 'for', 'with', 'about', 'against', 'between', 'into', 'through', 'during', 'before', 'after', 'above', 'below', 'to', 'from', 'up', 'down', 'in', 'out', 'on', 'off', 'over', 'under', 'again', 'further', 'then', 'once', 'here', 'there', 'when', 'where', 'why', 'how', 'all', 'any', 'both', 'each', 'few', 'more', 'most', 'other', 'some', 'such', 'no', 'nor', 'not', 'only', 'own', 'same', 'so', 'than', 'too', 'very', 's', 't', 'can', 'will', 'just', 'don', \"don't\", 'should', \"should've\", 'now', 'd', 'll', 'm', 'o', 're', 've', 'y', 'ain', 'aren', \"aren't\", 'couldn', \"couldn't\", 'didn', \"didn't\", 'doesn', \"doesn't\", 'hadn', \"hadn't\", 'hasn', \"hasn't\", 'haven', \"haven't\", 'isn', \"isn't\", 'ma', 'mightn', \"mightn't\", 'mustn', \"mustn't\", 'needn', \"needn't\", 'shan', \"shan't\", 'shouldn', \"shouldn't\", 'wasn', \"wasn't\", 'weren', \"weren't\", 'won', \"won't\", 'wouldn', \"wouldn't\"]\n"
     ]
    }
   ],
   "source": [
    "stopwords = list(nltk.corpus.stopwords.words('english'))\n",
    "print(stopwords)"
   ]
  },
  {
   "cell_type": "markdown",
   "metadata": {},
   "source": [
    "Removing stopwords"
   ]
  },
  {
   "cell_type": "code",
   "execution_count": 8,
   "metadata": {},
   "outputs": [
    {
     "name": "stdout",
     "output_type": "stream",
     "text": [
      "['text', 'document', 'using', 'example', \"n't\", 'really', 'matter', 'says', 'want', 'words', 'running', 'sensational']\n"
     ]
    }
   ],
   "source": [
    "filtered_tokens = [token for token in tokenized_text if token not in stopwords]\n",
    "print(filtered_tokens)"
   ]
  },
  {
   "cell_type": "markdown",
   "metadata": {},
   "source": [
    "## Stemming"
   ]
  },
  {
   "cell_type": "markdown",
   "metadata": {},
   "source": [
    "### Porter stemmer"
   ]
  },
  {
   "cell_type": "code",
   "execution_count": 9,
   "metadata": {},
   "outputs": [
    {
     "name": "stdout",
     "output_type": "stream",
     "text": [
      "['text', 'document', 'use', 'exampl', \"n't\", 'realli', 'matter', 'say', 'want', 'word', 'run', 'sensat']\n"
     ]
    }
   ],
   "source": [
    "stemmer_porter = nltk.stem.porter.PorterStemmer()\n",
    "print([stemmer_porter.stem(word) for word in filtered_tokens])"
   ]
  },
  {
   "cell_type": "markdown",
   "metadata": {},
   "source": [
    "### Snowball stemmer"
   ]
  },
  {
   "cell_type": "code",
   "execution_count": 10,
   "metadata": {},
   "outputs": [
    {
     "name": "stdout",
     "output_type": "stream",
     "text": [
      "['text', 'document', 'use', 'exampl', \"n't\", 'realli', 'matter', 'say', 'want', 'word', 'run', 'sensat']\n"
     ]
    }
   ],
   "source": [
    "stemmer_snowball = nltk.stem.snowball.SnowballStemmer('english')\n",
    "print([stemmer_snowball.stem(word) for word in filtered_tokens])"
   ]
  },
  {
   "cell_type": "markdown",
   "metadata": {},
   "source": [
    "### Lancaster stemmer"
   ]
  },
  {
   "cell_type": "code",
   "execution_count": 11,
   "metadata": {},
   "outputs": [
    {
     "name": "stdout",
     "output_type": "stream",
     "text": [
      "['text', 'docu', 'us', 'exampl', \"n't\", 'real', 'mat', 'say', 'want', 'word', 'run', 'sens']\n"
     ]
    }
   ],
   "source": [
    "stemmer_lancaster = nltk.stem.lancaster.LancasterStemmer()\n",
    "print([stemmer_lancaster.stem(word) for word in filtered_tokens])"
   ]
  }
 ],
 "metadata": {
  "kernelspec": {
   "display_name": "Python 3",
   "language": "python",
   "name": "python3"
  },
  "language_info": {
   "codemirror_mode": {
    "name": "ipython",
    "version": 3
   },
   "file_extension": ".py",
   "mimetype": "text/x-python",
   "name": "python",
   "nbconvert_exporter": "python",
   "pygments_lexer": "ipython3",
   "version": "3.7.4"
  }
 },
 "nbformat": 4,
 "nbformat_minor": 2
}
