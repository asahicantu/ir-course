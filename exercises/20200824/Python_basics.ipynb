{
 "cells": [
  {
   "cell_type": "markdown",
   "metadata": {},
   "source": [
    "# Python basics\n",
    "\n",
    "The objective of this exercise is to help you familiarize yourself with the environment that'll be used throughout this course.\n",
    "\n",
    "This course will assume that you have at least a basic familiarity with programming in Python. You can consider this exercise a simple test of your Python knowledge. If you manage to complete the tasks, you should have no issues with the programming side of things; otherwise ...\n",
    "\n",
    "Exercises will assume that you have Python 3.6+ installed using the Anaconda distribution.\n",
    "\n",
    "Additionally, you need to install the `ipytest` package, which adds magic commands that make it easier to define tests directly inside a notebook using the standard unittest framework. You can install it either using [conda](https://anaconda.org/conda-forge/ipytest) or using pip: `pip install ipytest`. "
   ]
  },
  {
   "cell_type": "code",
   "execution_count": 1,
   "metadata": {},
   "outputs": [],
   "source": [
    "import ipytest\n",
    "ipytest.autoconfig()"
   ]
  },
  {
   "cell_type": "markdown",
   "metadata": {},
   "source": [
    "## Task 1\n",
    "\n",
    "Write a method that checks whether a string is a [palindrome](https://en.wikipedia.org/wiki/Palindrome).\n",
    "Testing should be done case-insensitive.\n",
    "(Note: an empty string is also a palindrome, since it \"reads\" the same forward and backward.)"
   ]
  },
  {
   "cell_type": "code",
   "execution_count": 2,
   "metadata": {},
   "outputs": [],
   "source": [
    "def is_palindrome(text :str):\n",
    "    text = text.replace(' ','').lower()\n",
    "    p_text = text[::-1]\n",
    "    print(p_text)\n",
    "    return text == p_text\n",
    "    # TODO: complete this method.\n",
    "    return True"
   ]
  },
  {
   "cell_type": "code",
   "execution_count": 19,
   "metadata": {
    "tags": []
   },
   "outputs": [
    {
     "output_type": "stream",
     "name": "stdout",
     "text": "knososnok\n"
    },
    {
     "output_type": "execute_result",
     "data": {
      "text/plain": "False"
     },
     "metadata": {},
     "execution_count": 19
    }
   ],
   "source": [
    "is_palindrome(\"konsosonk\")"
   ]
  },
  {
   "cell_type": "code",
   "execution_count": 20,
   "metadata": {
    "tags": []
   },
   "outputs": [
    {
     "output_type": "stream",
     "name": "stdout",
     "text": "313\n"
    },
    {
     "output_type": "execute_result",
     "data": {
      "text/plain": "True"
     },
     "metadata": {},
     "execution_count": 20
    }
   ],
   "source": [
    "is_palindrome(\"313\")"
   ]
  },
  {
   "cell_type": "code",
   "execution_count": 21,
   "metadata": {
    "tags": []
   },
   "outputs": [
    {
     "output_type": "stream",
     "name": "stdout",
     "text": ".........                                                                [100%]\n9 passed in 0.05s\n"
    }
   ],
   "source": [
    "%%run_pytest[clean]\n",
    "\n",
    "def test_empty_string():\n",
    "    assert is_palindrome(\"\") == True\n",
    "    \n",
    "def test_single_character():\n",
    "    assert is_palindrome(\"a\") == True\n",
    "\n",
    "def test_same_characters():\n",
    "    assert is_palindrome(\"aa\") == True\n",
    "    \n",
    "def test_not_palindrome_even():\n",
    "    assert is_palindrome(\"ab\") == False\n",
    "\n",
    "def test_not_palindrome_odd():\n",
    "    assert is_palindrome(\"abc\") == False\n",
    "    \n",
    "def test_palindrome_even():\n",
    "    assert is_palindrome(\"abba\") == True\n",
    "    \n",
    "def test_palindrome_odd():\n",
    "    assert is_palindrome(\"aba\") == True\n",
    "\n",
    "def test_palindrome_even_cased():\n",
    "    assert is_palindrome(\"AbBa\") == True\n",
    "    \n",
    "def test_palindrome_odd_cased():\n",
    "    assert is_palindrome(\"abA\") == True\n"
   ]
  },
  {
   "cell_type": "markdown",
   "metadata": {},
   "source": [
    "## Task 2\n",
    "\n",
    "Given a list of strings, return the string that appears most frequently in the list. In case there are multiple such strings, return the one that appeared first in the list. For an empty input list, return a None value."
   ]
  },
  {
   "cell_type": "code",
   "execution_count": 25,
   "metadata": {},
   "outputs": [],
   "source": [
    "def get_most_frequent_element(lst):\n",
    "    test = dict()\n",
    "    most_frequent_key = ''\n",
    "    most_frequent_val = 0\n",
    "    if lst is None or len(lst) == 0:\n",
    "        return None\n",
    "    for item in lst:\n",
    "        test[item] = test[item] + 1 if item in test else 1\n",
    "        if most_frequent_key  == '' or (most_frequent_val > 0 and most_frequent_val < test[item]):\n",
    "            most_frequent_key = item\n",
    "            most_frequent_val = test[item]\n",
    "    return most_frequent_key"
   ]
  },
  {
   "cell_type": "markdown",
   "metadata": {},
   "source": [
    "Test your implementation."
   ]
  },
  {
   "cell_type": "code",
   "execution_count": 26,
   "metadata": {
    "tags": []
   },
   "outputs": [
    {
     "output_type": "stream",
     "name": "stdout",
     "text": "....                                                                     [100%]\n4 passed in 0.02s\n"
    }
   ],
   "source": [
    "%%run_pytest[clean]\n",
    "\n",
    "def test_empty_list():\n",
    "    assert get_most_frequent_element([]) == None\n",
    "\n",
    "def test_single_element():\n",
    "    assert get_most_frequent_element(['a']) == 'a'\n",
    "\n",
    "def test_two_elements():\n",
    "    assert get_most_frequent_element(['a', 'b', 'b']) == 'b'\n",
    "\n",
    "def test_ties():\n",
    "    assert get_most_frequent_element(['a', 'b', 'b', 'c', 'b', 'a', 'd', 'c', 'c']) == 'b'    "
   ]
  },
  {
   "cell_type": "code",
   "execution_count": null,
   "metadata": {},
   "outputs": [],
   "source": []
  }
 ],
 "metadata": {
  "kernelspec": {
   "display_name": "Python 3",
   "language": "python",
   "name": "python3"
  },
  "language_info": {
   "codemirror_mode": {
    "name": "ipython",
    "version": 3
   },
   "file_extension": ".py",
   "mimetype": "text/x-python",
   "name": "python",
   "nbconvert_exporter": "python",
   "pygments_lexer": "ipython3",
   "version": "3.8.5-final"
  }
 },
 "nbformat": 4,
 "nbformat_minor": 2
}