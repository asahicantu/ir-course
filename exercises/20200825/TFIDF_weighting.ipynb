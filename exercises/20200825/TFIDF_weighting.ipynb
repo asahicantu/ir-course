{
 "cells": [
  {
   "cell_type": "markdown",
   "metadata": {},
   "source": [
    "# TF-IDF weighting"
   ]
  },
  {
   "cell_type": "code",
   "execution_count": 1,
   "metadata": {},
   "outputs": [],
   "source": [
    "import ipytest\n",
    "import math\n",
    "import pytest\n",
    "\n",
    "ipytest.autoconfig()"
   ]
  },
  {
   "cell_type": "markdown",
   "metadata": {},
   "source": [
    "The document-term vector contains the raw term frequencies for each term in the document."
   ]
  },
  {
   "cell_type": "code",
   "execution_count": 2,
   "metadata": {},
   "outputs": [],
   "source": [
    "doc_term_matrix = [\n",
    "    [0, 0, 3, 0, 0, 0],\n",
    "    [1, 1, 2, 0, 0, 0],\n",
    "    [0, 0, 2, 1, 1, 0],\n",
    "    [0, 0, 0, 1, 1, 0],\n",
    "    [1, 1, 1, 0, 1, 1]\n",
    "]"
   ]
  },
  {
   "cell_type": "markdown",
   "metadata": {},
   "source": [
    "## Task 1: TF weighting\n",
    "\n",
    "Compute the L1-normalized term frequency vector for a given document.\n",
    "\n",
    "The L1-normalized frequency of a single term in a document is given by:\n",
    "\n",
    "$$tf_{t,d}=\\frac{c_{t,d}}{|d|} ~,$$ \n",
    "\n",
    "where $c_{t,d}$ is the count of occurrences of term $t$ in document $d$ and $|d|$ is the document length (total number of terms)."
   ]
  },
  {
   "cell_type": "code",
   "execution_count": 8,
   "metadata": {},
   "outputs": [
    {
     "output_type": "execute_result",
     "data": {
      "text/plain": "20"
     },
     "metadata": {},
     "execution_count": 8
    }
   ],
   "source": [
    "sum([5,5,5,5])"
   ]
  },
  {
   "cell_type": "code",
   "execution_count": 15,
   "metadata": {},
   "outputs": [],
   "source": [
    "def get_tf_vector(doc_term_vector):    \n",
    "    \"\"\"Computes the normalized term frequency vector from a raw term-frequency vector.\"\"\"\n",
    "    n_cols = len(doc_term_vector)\n",
    "    n_terms = sum(doc_term_vector)\n",
    "    tf_vector = [0]*n_cols\n",
    "    for col_idx in range(n_cols):\n",
    "        tf_vector[col_idx] = doc_term_vector[col_idx]/n_terms\n",
    "    return tf_vector"
   ]
  },
  {
   "cell_type": "markdown",
   "metadata": {},
   "source": [
    "Tests."
   ]
  },
  {
   "cell_type": "code",
   "execution_count": 16,
   "metadata": {
    "tags": []
   },
   "outputs": [
    {
     "output_type": "stream",
     "name": "stdout",
     "text": "..                                                                       [100%]\n2 passed in 0.02s\n"
    }
   ],
   "source": [
    "%%run_pytest[clean]\n",
    "\n",
    "def test_tf_doc0():\n",
    "    assert get_tf_vector(doc_term_matrix[0]) == [0, 0, 1, 0, 0, 0]\n",
    "    \n",
    "def test_tf_doc1():\n",
    "    assert get_tf_vector(doc_term_matrix[1]) == [0.25, 0.25, 0.5, 0, 0, 0]"
   ]
  },
  {
   "cell_type": "markdown",
   "metadata": {},
   "source": [
    "## Task 2: IDF weighting\n",
    "\n",
    "Compute the IDF weight of a term given by\n",
    "\n",
    "$$idf_{t}=\\log \\frac{N}{n_t} ~,$$ \n",
    "\n",
    "where $N$ is the total number of documents and $n_t$ is the number of documents that contain term $t$.\n",
    "**Use base-10 logarithm in this exercise.**"
   ]
  },
  {
   "cell_type": "code",
   "execution_count": 25,
   "metadata": {},
   "outputs": [],
   "source": [
    "def get_term_idf(doc_term_matrix, term_index):\n",
    "    \"\"\"Computes the IDF value of a term, given by its index, based on a document-term matrix.\"\"\"\n",
    "    n_documents = len(doc_term_matrix)\n",
    "    n_documents_with_term = 0\n",
    "    for doc in doc_term_matrix:\n",
    "        if doc[term_index] > 0:\n",
    "            n_documents_with_term +=1\n",
    "    return math.log10(n_documents/n_documents_with_term)"
   ]
  },
  {
   "cell_type": "markdown",
   "metadata": {},
   "source": [
    "Tests."
   ]
  },
  {
   "cell_type": "code",
   "execution_count": 26,
   "metadata": {
    "tags": []
   },
   "outputs": [
    {
     "output_type": "stream",
     "name": "stdout",
     "text": "..                                                                       [100%]\n2 passed in 0.02s\n"
    }
   ],
   "source": [
    "%%run_pytest[clean]\n",
    "\n",
    "def test_idf_term0():\n",
    "    assert get_term_idf(doc_term_matrix, 0) == pytest.approx(0.3979, rel=1e-3)\n",
    "    \n",
    "def test_idf_term2():\n",
    "    assert get_term_idf(doc_term_matrix, 2) == pytest.approx(0.0969, rel=1e-3)"
   ]
  },
  {
   "cell_type": "markdown",
   "metadata": {},
   "source": [
    "## Task 3: TF-IDF weighting\n",
    "\n",
    "Compute the TF-IDF vector for a given document, where the TF-IDF weight of a term in a document is given by:\n",
    "\n",
    "$$ tfidf_{t,d} = tf_{t,d} \\times idf_{t} ~.$$"
   ]
  },
  {
   "cell_type": "code",
   "execution_count": 41,
   "metadata": {},
   "outputs": [],
   "source": [
    "def get_tfidf_vector(doc_term_matrix, doc_index):\n",
    "    \"\"\"Computes the TFIDF vector from a raw term-frequency vector.\"\"\"\n",
    "    doc_term_vector = doc_term_matrix[doc_index]\n",
    "    tf_idf = [0] * len(doc_term_matrix[doc_index])\n",
    "    tf = get_tf_vector(doc_term_vector)\n",
    "    for term_index in range(len(doc_term_vector)):\n",
    "        idf = get_term_idf(doc_term_matrix,term_index)\n",
    "        tf_idf[term_index] = tf[term_index] *  idf\n",
    "    return tf_idf"
   ]
  },
  {
   "cell_type": "code",
   "execution_count": 42,
   "metadata": {},
   "outputs": [
    {
     "output_type": "execute_result",
     "data": {
      "text/plain": "[0.0, 0.0, 0.09691001300805642, 0.0, 0.0, 0.0]"
     },
     "metadata": {},
     "execution_count": 42
    }
   ],
   "source": [
    "get_tfidf_vector(doc_term_matrix, 0)"
   ]
  },
  {
   "cell_type": "markdown",
   "metadata": {},
   "source": [
    "Tests."
   ]
  },
  {
   "cell_type": "code",
   "execution_count": 43,
   "metadata": {
    "tags": []
   },
   "outputs": [
    {
     "output_type": "stream",
     "name": "stdout",
     "text": ".                                                                        [100%]\n1 passed in 0.01s\n"
    }
   ],
   "source": [
    "%%run_pytest[clean]\n",
    "\n",
    "def test_tfidf_doc0():\n",
    "    assert get_tfidf_vector(doc_term_matrix, 0) == pytest.approx([0, 0, 0.0969, 0, 0, 0], rel=1e-3)"
   ]
  }
 ],
 "metadata": {
  "kernelspec": {
   "display_name": "Python 3",
   "language": "python",
   "name": "python3"
  },
  "language_info": {
   "codemirror_mode": {
    "name": "ipython",
    "version": 3
   },
   "file_extension": ".py",
   "mimetype": "text/x-python",
   "name": "python",
   "nbconvert_exporter": "python",
   "pygments_lexer": "ipython3",
   "version": "3.8.5-final"
  }
 },
 "nbformat": 4,
 "nbformat_minor": 2
}