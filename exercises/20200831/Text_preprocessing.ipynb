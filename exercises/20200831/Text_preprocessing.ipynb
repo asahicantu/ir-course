{
 "cells": [
  {
   "cell_type": "markdown",
   "metadata": {},
   "source": [
    "# Text preprocessing"
   ]
  },
  {
   "cell_type": "code",
   "execution_count": 5,
   "metadata": {},
   "outputs": [],
   "source": [
    "import ipytest\n",
    "import re\n",
    "ipytest.autoconfig()"
   ]
  },
  {
   "cell_type": "markdown",
   "metadata": {},
   "source": [
    "## Task 1: Tokenization\n",
    "\n",
    "Split an input text into tokens based on whitespaces, punctuation, hyphens, and HTML markup. Additionally, lowercase all tokens."
   ]
  },
  {
   "cell_type": "code",
   "execution_count": 56,
   "metadata": {},
   "outputs": [],
   "source": [
    "def tokenize(text):    \n",
    "    \"\"\"Returns a sequence of terms given an input text.\"\"\"\n",
    "    special_chars=',|\\.|:|;|\\?|\\!|\\n|\\t|\\\\\\'|-|<(.*?)>'\n",
    "    doc = re.sub(special_chars,' ',text)\n",
    "    doc = doc.lower()\n",
    "    doc = re.sub('\\s{2,}', ' ',doc).strip()\n",
    "    items = doc.split(' ')\n",
    "    return items"
   ]
  },
  {
   "cell_type": "markdown",
   "metadata": {},
   "source": [
    "Tests."
   ]
  },
  {
   "cell_type": "code",
   "execution_count": 57,
   "metadata": {
    "tags": []
   },
   "outputs": [
    {
     "output_type": "stream",
     "name": "stdout",
     "text": "....                                                                     [100%]\n4 passed in 0.02s\n"
    }
   ],
   "source": [
    "%%run_pytest[clean]\n",
    "\n",
    "def test_whitespace():\n",
    "    assert tokenize('aaa bbb ccc') == ['aaa', 'bbb', 'ccc']\n",
    "    \n",
    "def test_punctuation():\n",
    "    assert tokenize('aaa! bbb.ccc,ddd:eee ff\\'f') == ['aaa', 'bbb', 'ccc', 'ddd', 'eee', 'ff', 'f']\n",
    "    \n",
    "def test_hyphens():\n",
    "    assert tokenize('aaa bbb-Ccc') == ['aaa', 'bbb', 'ccc']\n",
    "    \n",
    "def test_html():\n",
    "    assert tokenize('aaa <bbb>ccc <ddd>eee</ddd></bbb>fff <ggg />') == ['aaa', 'ccc', 'eee', 'fff']"
   ]
  },
  {
   "cell_type": "markdown",
   "metadata": {},
   "source": [
    "## Task 2: Stopwords removal\n",
    "\n",
    "Remove stopwords from a sequence of tokens, given a set of stopwords."
   ]
  },
  {
   "cell_type": "code",
   "execution_count": 64,
   "metadata": {},
   "outputs": [],
   "source": [
    "def remove_stopwords(tokens, stopwords):\n",
    "    \"\"\"Removes stopwords from a sequence of tokens.\"\"\"\n",
    "    #'|'.join(['this', 'is', 'some', 'text'])\n",
    "    return [token for token in tokens if token not in stopwords]\n",
    "    "
   ]
  },
  {
   "cell_type": "markdown",
   "metadata": {},
   "source": [
    "Tests."
   ]
  },
  {
   "cell_type": "code",
   "execution_count": 65,
   "metadata": {
    "tags": []
   },
   "outputs": [
    {
     "output_type": "stream",
     "name": "stdout",
     "text": "...                                                                      [100%]\n3 passed in 0.02s\n"
    }
   ],
   "source": [
    "%%run_pytest[clean]\n",
    "\n",
    "def test_no_stopwords():\n",
    "    assert remove_stopwords(['this', 'is', 'some', 'text'], {}) == ['this', 'is', 'some', 'text']\n",
    "    \n",
    "def test_stopwords():\n",
    "    assert remove_stopwords(['this', 'is', 'some', 'text'], {'is', 'this'}) == ['some', 'text']\n",
    "    \n",
    "def test_stopwords2():\n",
    "    assert remove_stopwords(['this', 'isolate', 'otto'], {'is', 'this', 'to'}) == ['isolate', 'otto']    "
   ]
  },
  {
   "cell_type": "markdown",
   "metadata": {},
   "source": [
    "## Task 3: Suffix-s stemming\n",
    "\n",
    "Remove the s-suffix from all terms in a sequence."
   ]
  },
  {
   "cell_type": "code",
   "execution_count": 74,
   "metadata": {},
   "outputs": [],
   "source": [
    "def suffix_s_stemmer(terms):\n",
    "    sufixes = ['s']\n",
    "    \"\"\"Removes the s-suffix from all terms in a sequence.\"\"\"\n",
    "    for i in range(len(terms)):\n",
    "        if terms[i][-1]  in sufixes:\n",
    "            terms[i] = terms[i][0:-1]\n",
    "    return terms"
   ]
  },
  {
   "cell_type": "markdown",
   "metadata": {},
   "source": [
    "Tests."
   ]
  },
  {
   "cell_type": "code",
   "execution_count": 77,
   "metadata": {
    "tags": []
   },
   "outputs": [
    {
     "output_type": "stream",
     "name": "stdout",
     "text": ".                                                                        [100%]\n1 passed in 0.02s\n"
    }
   ],
   "source": [
    "%%run_pytest[clean]\n",
    "\n",
    "def test_stemming():\n",
    "    assert suffix_s_stemmer(['dogs', 'better', 'cats']) == ['dog', 'better', 'cat']"
   ]
  },
  {
   "cell_type": "code",
   "execution_count": null,
   "metadata": {},
   "outputs": [],
   "source": []
  }
 ],
 "metadata": {
  "kernelspec": {
   "display_name": "Python 3",
   "language": "python",
   "name": "python3"
  },
  "language_info": {
   "codemirror_mode": {
    "name": "ipython",
    "version": 3
   },
   "file_extension": ".py",
   "mimetype": "text/x-python",
   "name": "python",
   "nbconvert_exporter": "python",
   "pygments_lexer": "ipython3",
   "version": "3.8.5-final"
  }
 },
 "nbformat": 4,
 "nbformat_minor": 2
}