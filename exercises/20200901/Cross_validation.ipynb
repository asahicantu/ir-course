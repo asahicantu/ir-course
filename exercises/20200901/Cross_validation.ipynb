{
 "cells": [
  {
   "cell_type": "markdown",
   "metadata": {},
   "source": [
    "# Cross-validation"
   ]
  },
  {
   "cell_type": "code",
   "execution_count": 12,
   "metadata": {},
   "outputs": [],
   "source": [
    "import ipytest\n",
    "import random\n",
    "ipytest.autoconfig()"
   ]
  },
  {
   "cell_type": "markdown",
   "metadata": {},
   "source": [
    "## Task\n",
    "\n",
    "Given a set of instances (by their IDs), divide them into k folds to perform cross-validation.\n",
    "\n",
    "Each fold should enumerate the instances for the train and test splits."
   ]
  },
  {
   "cell_type": "code",
   "execution_count": 37,
   "metadata": {},
   "outputs": [],
   "source": [
    "def create_folds(instances, k=5):\n",
    "    n_train_samples = int(len(instances) * 0.8)\n",
    "    \"\"\"Given a set of instances, it returns k splits of train and test.\"\"\"\n",
    "    folds = []\n",
    "    for i in range(k):\n",
    "        train = random.sample(instances,k=n_train_samples)\n",
    "        test = [instance for instance in instances if instance not in train]\n",
    "        folds.append({\n",
    "            'train': train, \n",
    "            'test': test\n",
    "        })\n",
    "    return folds"
   ]
  },
  {
   "cell_type": "markdown",
   "metadata": {},
   "source": [
    "### Tests\n",
    "\n",
    "One simple test is provided, which merely checks if the required number of folds is generated and that each contains the correct number of train and test instances.\n",
    "\n",
    "Part of the exercise is to create some more advanced tests. \n",
    "\n",
    "  - One test should test converage, that is, check that all instances are part of exactly one test fold and k-1 train folds.\n",
    "  - Another test should checks that the folds are sufficiently random, i.e., that you're not always returning the exact same partitioning of instances."
   ]
  },
  {
   "cell_type": "code",
   "execution_count": 57,
   "metadata": {
    "tags": []
   },
   "outputs": [
    {
     "output_type": "stream",
     "name": "stdout",
     "text": "...                                                                      [100%]\n3 passed in 0.02s\n"
    }
   ],
   "source": [
    "%%run_pytest[clean]\n",
    "\n",
    "def test_fold_size():\n",
    "    instances = list(range(100))\n",
    "    folds = create_folds(instances, k=5)\n",
    "    assert len(folds) == 5\n",
    "    for fold in folds:\n",
    "        assert len(fold['train']) == 80\n",
    "        assert len(fold['test']) == 20\n",
    "\n",
    "def test_coverage():\n",
    "    instances_set = set(instances)\n",
    "    for fold in folds:\n",
    "        fold_set = set(fold['train'] + fold['test'])\n",
    "        assert fold_set == instances_set\n",
    "    \n",
    "def test_randomization():\n",
    "    fold_test= None\n",
    "    fold_train = None\n",
    "    for fold in folds:\n",
    "        test = set(fold['test'])\n",
    "        train = set(fold['train'])\n",
    "        if  fold_test == None:\n",
    "            fold_test = test\n",
    "            fold_train = train\n",
    "        else:\n",
    "            assert fold_test != test and fold_train != train"
   ]
  }
 ],
 "metadata": {
  "kernelspec": {
   "display_name": "Python 3",
   "language": "python",
   "name": "python3"
  },
  "language_info": {
   "codemirror_mode": {
    "name": "ipython",
    "version": 3
   },
   "file_extension": ".py",
   "mimetype": "text/x-python",
   "name": "python",
   "nbconvert_exporter": "python",
   "pygments_lexer": "ipython3",
   "version": "3.8.5-final"
  }
 },
 "nbformat": 4,
 "nbformat_minor": 2
}